{
 "cells": [
  {
   "cell_type": "code",
   "execution_count": 1,
   "metadata": {},
   "outputs": [],
   "source": [
    "%run ./resources/library.py"
   ]
  },
  {
   "cell_type": "code",
   "execution_count": 2,
   "metadata": {},
   "outputs": [
    {
     "data": {
      "text/html": [
       "<style> \n",
       "div.text_cell_render { /* Customize text cells */ \n",
       "    font-family: 'Arial'; \n",
       "    font-size:20px;\n",
       "    line-height: 1.5em;\n",
       "    padding-left:3em; \n",
       "    padding-right:3em; \n",
       "}\n",
       ".CodeMirror {\n",
       "    font-family:  'Source Code Pro', monospace;\n",
       "    font-size: 18px;\n",
       "}\n",
       "\n",
       "/* Cell output */\n",
       "\n",
       ".rendered_html pre, .rendered_html code {\n",
       "    color: inherit !important;\n",
       "    background-color: inherit !important;\n",
       "}\n",
       "div.output_area pre {\n",
       "    line-height: 1.2em;\n",
       "    color: #93a1a1 !important;\n",
       "    font-family: 'Source Code Pro', monospace;\n",
       "    font-size: 16px;\n",
       "}\n",
       ".rendered_html table, .rendered_html td, .rendered_html th {\n",
       "    border: 1px solid #586e75 !important;\n",
       "    font-family: 'Arial';\n",
       "    font-size: 16px;\n",
       "}\n",
       ".container { width:100% !important; }\n",
       "</style>"
      ],
      "text/plain": [
       "<IPython.core.display.HTML object>"
      ]
     },
     "execution_count": 2,
     "metadata": {},
     "output_type": "execute_result"
    }
   ],
   "source": [
    "style_notebook()"
   ]
  },
  {
   "cell_type": "markdown",
   "metadata": {},
   "source": [
    "# Notebook 5 - Advanced: Further Inspiration and To-Do List"
   ]
  },
  {
   "cell_type": "markdown",
   "metadata": {},
   "source": [
    "There are many more mountains to climb, valleys to forge and seas to sail with the Cholera Case Study. \n",
    "\n",
    "![](images/sail_adventure.jpeg)"
   ]
  },
  {
   "cell_type": "markdown",
   "metadata": {},
   "source": [
    "## Possible notebooks to add "
   ]
  },
  {
   "cell_type": "markdown",
   "metadata": {},
   "source": [
    "### Synthetic Data Sets"
   ]
  },
  {
   "cell_type": "markdown",
   "metadata": {},
   "source": [
    "* Creating a synthetic data set for deaths time series (Notebook) with location. This can be a proof of concept for plotting mortality data across time and space. `Folium` has interactive time series and heat map features."
   ]
  },
  {
   "cell_type": "markdown",
   "metadata": {},
   "source": [
    "### Cholera-related Analysis"
   ]
  },
  {
   "cell_type": "markdown",
   "metadata": {},
   "source": [
    "* Cholera outbreaks in coastal regions show strong association with chlorophyll levels (for predicting cholera outbreaks)\n",
    "  * Jutla, Antarpreet S., Ali S. Akanda, and Shafiqul Islam. \"Tracking cholera in coastal regions using satellite observations.\" JAWRA Journal of the American Water Resources Association 46.4 (2010): 651-662. URL: https://www.ncbi.nlm.nih.gov/pmc/articles/PMC2975368/ (See figure below)\n",
    "  ![](images/nihms202061f5.jpg)\n",
    "  * Ford, Timothy E., et al. \"Using satellite images of environmental changes to predict infectious disease outbreaks.\" Emerging Infectious Diseases 15.9 (2009): 1341. URL: https://www.ncbi.nlm.nih.gov/pmc/articles/PMC2819876/"
   ]
  },
  {
   "cell_type": "code",
   "execution_count": null,
   "metadata": {},
   "outputs": [],
   "source": []
  },
  {
   "cell_type": "code",
   "execution_count": null,
   "metadata": {},
   "outputs": [],
   "source": []
  }
 ],
 "metadata": {
  "kernelspec": {
   "display_name": "Python 3",
   "language": "python",
   "name": "python3"
  },
  "language_info": {
   "codemirror_mode": {
    "name": "ipython",
    "version": 3
   },
   "file_extension": ".py",
   "mimetype": "text/x-python",
   "name": "python",
   "nbconvert_exporter": "python",
   "pygments_lexer": "ipython3",
   "version": "3.7.6"
  },
  "nbTranslate": {
   "displayLangs": [
    "*"
   ],
   "hotkey": "alt-t",
   "langInMainMenu": true,
   "sourceLang": "en",
   "targetLang": "fr",
   "useGoogleTranslate": true
  }
 },
 "nbformat": 4,
 "nbformat_minor": 2
}
